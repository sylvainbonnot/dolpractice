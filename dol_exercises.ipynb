{
 "cells": [
  {
   "cell_type": "markdown",
   "id": "f12e2ce8",
   "metadata": {},
   "source": [
    "# 100 dol exercises\n",
    "\n",
    "This is a collection of exercises to help practicing with **dol**.\n",
    "\n",
    "\n",
    "The whole poject is inspired by the excellent  <https://github.com/rougier/numpy-100>."
   ]
  },
  {
   "cell_type": "markdown",
   "id": "cc512593",
   "metadata": {},
   "source": [
    "File automatically generated. See the documentation to update questions/answers/hints programmatically."
   ]
  },
  {
   "cell_type": "markdown",
   "id": "e53ea1cb",
   "metadata": {},
   "source": [
    "Run the `initialize.py` module, then for each question you can query the\n",
    "answer or an hint with `hint(n)` or `answer(n)` for `n` question number."
   ]
  },
  {
   "cell_type": "code",
   "execution_count": null,
   "id": "629a6912",
   "metadata": {},
   "outputs": [],
   "source": [
    "%run initialise.py"
   ]
  },
  {
   "cell_type": "markdown",
   "id": "44bebe07",
   "metadata": {},
   "source": [
    "#### 1. Create a store (★☆☆)"
   ]
  },
  {
   "cell_type": "code",
   "execution_count": null,
   "id": "5ed69b62",
   "metadata": {},
   "outputs": [],
   "source": []
  },
  {
   "cell_type": "markdown",
   "id": "323aca0f",
   "metadata": {},
   "source": [
    "#### 2. Show that a Store has strictly more attributes than a dict"
   ]
  },
  {
   "cell_type": "code",
   "execution_count": null,
   "id": "8877d04a",
   "metadata": {},
   "outputs": [],
   "source": []
  }
 ],
 "metadata": {},
 "nbformat": 4,
 "nbformat_minor": 5
}
